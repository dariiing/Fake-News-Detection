{
 "cells": [
  {
   "cell_type": "markdown",
   "id": "8c967188b7db9412",
   "metadata": {},
   "source": [
    "Import the preprocessed LIAR dataset"
   ]
  },
  {
   "cell_type": "code",
   "id": "35f3f8cb0d176635",
   "metadata": {
    "ExecuteTime": {
     "end_time": "2025-01-13T09:53:13.691790Z",
     "start_time": "2025-01-13T09:53:11.554042Z"
    }
   },
   "source": [
    "from datasets import load_dataset\n",
    "\n",
    "dataset = load_dataset(\"csv\", data_files={'train': \"preprocessed_liar/liar_train.csv\", 'test': \"preprocessed_liar/liar_test.csv\", 'valid': \"preprocessed_liar/liar_valid.csv\"})\n",
    "print(dataset)"
   ],
   "outputs": [
    {
     "name": "stdout",
     "output_type": "stream",
     "text": [
      "DatasetDict({\n",
      "    train: Dataset({\n",
      "        features: ['statement', 'label'],\n",
      "        num_rows: 8960\n",
      "    })\n",
      "    test: Dataset({\n",
      "        features: ['statement', 'label'],\n",
      "        num_rows: 1002\n",
      "    })\n",
      "    valid: Dataset({\n",
      "        features: ['statement', 'label'],\n",
      "        num_rows: 1036\n",
      "    })\n",
      "})\n"
     ]
    }
   ],
   "execution_count": 1
  },
  {
   "cell_type": "markdown",
   "id": "b517a9d59eb42e76",
   "metadata": {},
   "source": [
    "Pick the pre-trained model"
   ]
  },
  {
   "cell_type": "code",
   "id": "7e5dd0e4d414bb8c",
   "metadata": {
    "ExecuteTime": {
     "end_time": "2025-01-13T09:53:13.695685Z",
     "start_time": "2025-01-13T09:53:13.692795Z"
    }
   },
   "source": [
    "model_name = \"albert/albert-base-v2\"\n",
    "your_path = 'liar_new_results'"
   ],
   "outputs": [],
   "execution_count": 2
  },
  {
   "cell_type": "markdown",
   "id": "b4a1917732497053",
   "metadata": {},
   "source": [
    "Look over the label distribution"
   ]
  },
  {
   "cell_type": "code",
   "id": "93a4c785ef92b56d",
   "metadata": {
    "ExecuteTime": {
     "end_time": "2025-01-13T09:53:13.704200Z",
     "start_time": "2025-01-13T09:53:13.696695Z"
    }
   },
   "source": [
    "from collections import Counter\n",
    "\n",
    "train_label_distribution = Counter(dataset['train']['label'])\n",
    "test_label_distribution = Counter(dataset['test']['label'])\n",
    "\n",
    "print(\"Training Label Distribution:\", train_label_distribution)\n",
    "print(\"Test Label Distribution:\", test_label_distribution)"
   ],
   "outputs": [
    {
     "name": "stdout",
     "output_type": "stream",
     "text": [
      "Training Label Distribution: Counter({False: 4480, True: 4480})\n",
      "Test Label Distribution: Counter({False: 553, True: 449})\n"
     ]
    }
   ],
   "execution_count": 3
  },
  {
   "cell_type": "markdown",
   "id": "22adf2174484ab0e",
   "metadata": {},
   "source": [
    "Labels in their original form are strings (true/false). We need to convert them to numerical values so they can be processed by the model."
   ]
  },
  {
   "cell_type": "code",
   "id": "119cfede3e42a1a0",
   "metadata": {
    "ExecuteTime": {
     "end_time": "2025-01-13T09:53:14.018964Z",
     "start_time": "2025-01-13T09:53:13.705209Z"
    }
   },
   "source": [
    "from sklearn.preprocessing import LabelEncoder\n",
    "\n",
    "label_encoder = LabelEncoder()\n",
    "\n",
    "label_encoder.fit(dataset['train']['label'])\n",
    "\n",
    "def encode_labels(example):\n",
    "    return {'encoded_label': label_encoder.transform([example['label']])[0]}\n",
    "\n",
    "for split in dataset:\n",
    "    dataset[split] = dataset[split].map(encode_labels, batched=False)"
   ],
   "outputs": [],
   "execution_count": 4
  },
  {
   "cell_type": "markdown",
   "id": "5235ccf546e00f40",
   "metadata": {},
   "source": [
    "The id2label and label2id mappings in AutoConfig are used to inform the model of the specific label-to-ID mappings so we can get the actual label names rather than the numerical reps when we do inference with the model."
   ]
  },
  {
   "cell_type": "code",
   "id": "74e36377950e72f5",
   "metadata": {
    "ExecuteTime": {
     "end_time": "2025-01-13T09:53:20.404018Z",
     "start_time": "2025-01-13T09:53:14.019972Z"
    }
   },
   "source": [
    "from transformers import AutoConfig\n",
    "\n",
    "unique_labels = sorted(list(set(dataset['train']['label'])))\n",
    "id2label = {i: label for i, label in enumerate(unique_labels)}\n",
    "label2id = {label: i for i, label in enumerate(unique_labels)}\n",
    "\n",
    "config = AutoConfig.from_pretrained(model_name)\n",
    "config.id2label = id2label\n",
    "config.label2id = label2id"
   ],
   "outputs": [],
   "execution_count": 5
  },
  {
   "cell_type": "markdown",
   "id": "c3ae7f0e40d930d7",
   "metadata": {},
   "source": [
    "Verify the correct labels are being used"
   ]
  },
  {
   "cell_type": "code",
   "id": "2408315af31a0c8f",
   "metadata": {
    "ExecuteTime": {
     "end_time": "2025-01-13T09:53:20.407955Z",
     "start_time": "2025-01-13T09:53:20.404548Z"
    }
   },
   "source": [
    "print(\"ID to Label Mapping:\", config.id2label)\n",
    "print(\"Label to ID Mapping:\", config.label2id)"
   ],
   "outputs": [
    {
     "name": "stdout",
     "output_type": "stream",
     "text": [
      "ID to Label Mapping: {0: False, 1: True}\n",
      "Label to ID Mapping: {False: 0, True: 1}\n"
     ]
    }
   ],
   "execution_count": 6
  },
  {
   "cell_type": "markdown",
   "id": "4302a4edd5f344dc",
   "metadata": {},
   "source": []
  },
  {
   "cell_type": "markdown",
   "id": "5474992b3860f0fc",
   "metadata": {},
   "source": [
    "Now, we need to tokenize the text data so it can be processed by the model. We will use the tokenizer that corresponds to the model we are using from Hugging Face's Transformers library."
   ]
  },
  {
   "cell_type": "code",
   "id": "4e36576eb2017537",
   "metadata": {
    "ExecuteTime": {
     "end_time": "2025-01-13T09:53:23.281876Z",
     "start_time": "2025-01-13T09:53:20.408967Z"
    }
   },
   "source": [
    "from transformers import AlbertForSequenceClassification, AlbertTokenizer\n",
    "\n",
    "tokenizer = AlbertTokenizer.from_pretrained(model_name)\n",
    "model = AlbertForSequenceClassification.from_pretrained(model_name, config=config)"
   ],
   "outputs": [
    {
     "name": "stderr",
     "output_type": "stream",
     "text": [
      "Some weights of AlbertForSequenceClassification were not initialized from the model checkpoint at albert/albert-base-v2 and are newly initialized: ['classifier.bias', 'classifier.weight']\n",
      "You should probably TRAIN this model on a down-stream task to be able to use it for predictions and inference.\n"
     ]
    }
   ],
   "execution_count": 7
  },
  {
   "cell_type": "markdown",
   "id": "9c96fd96434c097a",
   "metadata": {},
   "source": [
    "We need to filter out any examples that have invalid content (e.g. empty strings) before tokenizing the data. Then, we will encode the labels and tokenize the text data. Tokenizing means converting the text data into numerical representations that can be processed by the model."
   ]
  },
  {
   "cell_type": "code",
   "id": "7f27f8afbaeda6a5",
   "metadata": {
    "ExecuteTime": {
     "end_time": "2025-01-13T09:53:23.325104Z",
     "start_time": "2025-01-13T09:53:23.281876Z"
    }
   },
   "source": [
    "def filter_invalid_content(example):\n",
    "    return isinstance(example['statement'], str)\n",
    "\n",
    "dataset = dataset.filter(filter_invalid_content, batched=False)\n",
    "\n",
    "def encode_data(batch):\n",
    "    tokenized_inputs = tokenizer(batch[\"statement\"], padding=True, truncation=True, max_length=256)\n",
    "    tokenized_inputs[\"labels\"] = batch[\"encoded_label\"]\n",
    "    return tokenized_inputs"
   ],
   "outputs": [],
   "execution_count": 8
  },
  {
   "cell_type": "markdown",
   "id": "973e8f2b24dbe374",
   "metadata": {},
   "source": [
    "Verify the data is tokenized correctly:"
   ]
  },
  {
   "cell_type": "code",
   "id": "de404dd0d21bfe4c",
   "metadata": {
    "ExecuteTime": {
     "end_time": "2025-01-13T09:53:23.391573Z",
     "start_time": "2025-01-13T09:53:23.325104Z"
    }
   },
   "source": [
    "dataset_encoded = dataset.map(encode_data, batched=True)\n",
    "print(dataset_encoded) "
   ],
   "outputs": [
    {
     "name": "stdout",
     "output_type": "stream",
     "text": [
      "DatasetDict({\n",
      "    train: Dataset({\n",
      "        features: ['statement', 'label', 'encoded_label', 'input_ids', 'token_type_ids', 'attention_mask', 'labels'],\n",
      "        num_rows: 8960\n",
      "    })\n",
      "    test: Dataset({\n",
      "        features: ['statement', 'label', 'encoded_label', 'input_ids', 'token_type_ids', 'attention_mask', 'labels'],\n",
      "        num_rows: 1002\n",
      "    })\n",
      "    valid: Dataset({\n",
      "        features: ['statement', 'label', 'encoded_label', 'input_ids', 'token_type_ids', 'attention_mask', 'labels'],\n",
      "        num_rows: 1036\n",
      "    })\n",
      "})\n"
     ]
    }
   ],
   "execution_count": 9
  },
  {
   "cell_type": "markdown",
   "id": "51966d61db6c9e28",
   "metadata": {},
   "source": [
    "The DataCollatorWithPadding ensures that all input sequences in a batch are padded to the same length, using the padding logic defined by the tokenizer. This is necessary because the model can only process inputs of the same length."
   ]
  },
  {
   "cell_type": "code",
   "id": "a60029459b5015dc",
   "metadata": {
    "ExecuteTime": {
     "end_time": "2025-01-13T09:53:23.395823Z",
     "start_time": "2025-01-13T09:53:23.392081Z"
    }
   },
   "source": [
    "dataset_encoded.set_format(type='torch', columns=['input_ids', 'attention_mask', 'labels'])"
   ],
   "outputs": [],
   "execution_count": 10
  },
  {
   "cell_type": "code",
   "id": "44e5507bc487e0a0",
   "metadata": {
    "ExecuteTime": {
     "end_time": "2025-01-13T09:53:23.414347Z",
     "start_time": "2025-01-13T09:53:23.396833Z"
    }
   },
   "source": [
    "from transformers import DataCollatorWithPadding\n",
    "\n",
    "data_collator = DataCollatorWithPadding(tokenizer)"
   ],
   "outputs": [],
   "execution_count": 11
  },
  {
   "cell_type": "markdown",
   "id": "b3b532b39e3f67bb",
   "metadata": {},
   "source": [
    "Next we'll set up LabelEncoder to encode labels and defines a function to compute per-label accuracy from a confusion matrix, providing label-specific accuracy metrics. I.e. when we train the model we want to see the accuracy metrics per label as well as the average metrics. This is more relevant if you have more than two labels, and one is underperforming. "
   ]
  },
  {
   "cell_type": "code",
   "id": "6631dde6b29a5f95",
   "metadata": {
    "ExecuteTime": {
     "end_time": "2025-01-13T09:53:23.419321Z",
     "start_time": "2025-01-13T09:53:23.414858Z"
    }
   },
   "source": [
    "from sklearn.preprocessing import LabelEncoder\n",
    "from sklearn.metrics import confusion_matrix\n",
    "import numpy as np\n",
    "\n",
    "label_encoder = LabelEncoder()\n",
    "label_encoder.fit(unique_labels)\n",
    "\n",
    "def per_label_accuracy(y_true, y_pred, labels):\n",
    "    cm = confusion_matrix(y_true, y_pred, labels=labels)\n",
    "    correct_predictions = cm.diagonal()\n",
    "    label_totals = cm.sum(axis=1)\n",
    "    per_label_acc = np.divide(correct_predictions, label_totals, out=np.zeros_like(correct_predictions, dtype=float), where=label_totals != 0)\n",
    "    return dict(zip(labels, per_label_acc))"
   ],
   "outputs": [],
   "execution_count": 12
  },
  {
   "cell_type": "markdown",
   "id": "e1dbb72b88c986ae",
   "metadata": {},
   "source": [
    "Compute the following metrics: accuracy, precision, recall, f1 score, and per-label accuracy."
   ]
  },
  {
   "cell_type": "code",
   "id": "dbc426b92f30f17e",
   "metadata": {
    "ExecuteTime": {
     "end_time": "2025-01-13T09:53:23.425345Z",
     "start_time": "2025-01-13T09:53:23.421328Z"
    }
   },
   "source": [
    "from sklearn.metrics import accuracy_score, recall_score, precision_score, f1_score\n",
    "\n",
    "def compute_metrics(pred):\n",
    "    labels = pred.label_ids\n",
    "    preds = pred.predictions.argmax(-1)\n",
    "\n",
    "    decoded_labels = label_encoder.inverse_transform(labels)\n",
    "    decoded_preds = label_encoder.inverse_transform(preds)\n",
    "\n",
    "    precision = precision_score(decoded_labels, decoded_preds, average='weighted')\n",
    "    recall = recall_score(decoded_labels, decoded_preds, average='weighted')\n",
    "    f1 = f1_score(decoded_labels, decoded_preds, average='weighted')\n",
    "    acc = accuracy_score(decoded_labels, decoded_preds)\n",
    "\n",
    "    labels_list = list(label_encoder.classes_)\n",
    "    per_label_acc = per_label_accuracy(decoded_labels, decoded_preds, labels_list)\n",
    "\n",
    "    per_label_acc_metrics = {}\n",
    "    for label, accuracy in per_label_acc.items():\n",
    "        label_key = f\"accuracy_label_{label}\"\n",
    "        per_label_acc_metrics[label_key] = accuracy\n",
    "\n",
    "    return {\n",
    "        'accuracy': acc,\n",
    "        'f1': f1,\n",
    "        'precision': precision,\n",
    "        'recall': recall,\n",
    "        **per_label_acc_metrics\n",
    "    }"
   ],
   "outputs": [],
   "execution_count": 13
  },
  {
   "cell_type": "markdown",
   "id": "89b117a85c9dd98e",
   "metadata": {},
   "source": [
    "Next, the training begins. Training loss and validation loss should decrease consistenly. If the training loss is decreasing but the validation loss is increasing, the model is overfitting. If both are increasing, the model is underfitting."
   ]
  },
  {
   "cell_type": "code",
   "id": "af40704b3d471dce",
   "metadata": {
    "ExecuteTime": {
     "end_time": "2025-01-13T10:31:58.888673Z",
     "start_time": "2025-01-13T10:14:06.084625Z"
    }
   },
   "source": [
    "from transformers import Trainer, TrainingArguments\n",
    "\n",
    "training_args = TrainingArguments(\n",
    "    output_dir='./output',\n",
    "    num_train_epochs=4,\n",
    "    warmup_steps=300,\n",
    "    per_device_train_batch_size=16,\n",
    "    per_device_eval_batch_size=16,\n",
    "    weight_decay=0.1, # prevents overfitting\n",
    "    logging_steps=10, \n",
    "    eval_strategy='steps',\n",
    "    eval_steps=100,\n",
    "    learning_rate=2e-5,\n",
    "    save_steps=1000,\n",
    "    gradient_accumulation_steps=2,\n",
    ")\n",
    "\n",
    "trainer = Trainer(\n",
    "    model=model,\n",
    "    args=training_args,\n",
    "    train_dataset=dataset_encoded['train'],\n",
    "    eval_dataset=dataset_encoded['test'],\n",
    "    compute_metrics=compute_metrics,\n",
    "    processing_class=tokenizer,\n",
    "    data_collator=data_collator,\n",
    ")\n",
    "\n",
    "trainer.train()\n"
   ],
   "outputs": [
    {
     "data": {
      "text/plain": [
       "<IPython.core.display.HTML object>"
      ],
      "text/html": [
       "\n",
       "    <div>\n",
       "      \n",
       "      <progress value='1120' max='1120' style='width:300px; height:20px; vertical-align: middle;'></progress>\n",
       "      [1120/1120 17:51, Epoch 4/4]\n",
       "    </div>\n",
       "    <table border=\"1\" class=\"dataframe\">\n",
       "  <thead>\n",
       " <tr style=\"text-align: left;\">\n",
       "      <th>Step</th>\n",
       "      <th>Training Loss</th>\n",
       "      <th>Validation Loss</th>\n",
       "      <th>Accuracy</th>\n",
       "      <th>F1</th>\n",
       "      <th>Precision</th>\n",
       "      <th>Recall</th>\n",
       "      <th>Accuracy Label False</th>\n",
       "      <th>Accuracy Label True</th>\n",
       "    </tr>\n",
       "  </thead>\n",
       "  <tbody>\n",
       "    <tr>\n",
       "      <td>100</td>\n",
       "      <td>0.716100</td>\n",
       "      <td>0.779074</td>\n",
       "      <td>0.617764</td>\n",
       "      <td>0.587205</td>\n",
       "      <td>0.625466</td>\n",
       "      <td>0.617764</td>\n",
       "      <td>0.853526</td>\n",
       "      <td>0.327394</td>\n",
       "    </tr>\n",
       "    <tr>\n",
       "      <td>200</td>\n",
       "      <td>0.745800</td>\n",
       "      <td>0.771607</td>\n",
       "      <td>0.614770</td>\n",
       "      <td>0.599148</td>\n",
       "      <td>0.612761</td>\n",
       "      <td>0.614770</td>\n",
       "      <td>0.786618</td>\n",
       "      <td>0.403118</td>\n",
       "    </tr>\n",
       "    <tr>\n",
       "      <td>300</td>\n",
       "      <td>0.684800</td>\n",
       "      <td>0.849360</td>\n",
       "      <td>0.624750</td>\n",
       "      <td>0.600610</td>\n",
       "      <td>0.629858</td>\n",
       "      <td>0.624750</td>\n",
       "      <td>0.837251</td>\n",
       "      <td>0.363029</td>\n",
       "    </tr>\n",
       "    <tr>\n",
       "      <td>400</td>\n",
       "      <td>0.770300</td>\n",
       "      <td>0.842706</td>\n",
       "      <td>0.611776</td>\n",
       "      <td>0.596207</td>\n",
       "      <td>0.609277</td>\n",
       "      <td>0.611776</td>\n",
       "      <td>0.783002</td>\n",
       "      <td>0.400891</td>\n",
       "    </tr>\n",
       "    <tr>\n",
       "      <td>500</td>\n",
       "      <td>0.738200</td>\n",
       "      <td>0.919108</td>\n",
       "      <td>0.598802</td>\n",
       "      <td>0.546273</td>\n",
       "      <td>0.614268</td>\n",
       "      <td>0.598802</td>\n",
       "      <td>0.895118</td>\n",
       "      <td>0.233853</td>\n",
       "    </tr>\n",
       "    <tr>\n",
       "      <td>600</td>\n",
       "      <td>0.378300</td>\n",
       "      <td>0.999461</td>\n",
       "      <td>0.609780</td>\n",
       "      <td>0.579611</td>\n",
       "      <td>0.614070</td>\n",
       "      <td>0.609780</td>\n",
       "      <td>0.842676</td>\n",
       "      <td>0.322940</td>\n",
       "    </tr>\n",
       "    <tr>\n",
       "      <td>700</td>\n",
       "      <td>0.395300</td>\n",
       "      <td>1.117048</td>\n",
       "      <td>0.603792</td>\n",
       "      <td>0.565983</td>\n",
       "      <td>0.610637</td>\n",
       "      <td>0.603792</td>\n",
       "      <td>0.860759</td>\n",
       "      <td>0.287305</td>\n",
       "    </tr>\n",
       "    <tr>\n",
       "      <td>800</td>\n",
       "      <td>0.331500</td>\n",
       "      <td>1.043478</td>\n",
       "      <td>0.616766</td>\n",
       "      <td>0.605678</td>\n",
       "      <td>0.613626</td>\n",
       "      <td>0.616766</td>\n",
       "      <td>0.763110</td>\n",
       "      <td>0.436526</td>\n",
       "    </tr>\n",
       "    <tr>\n",
       "      <td>900</td>\n",
       "      <td>0.144000</td>\n",
       "      <td>1.361852</td>\n",
       "      <td>0.612774</td>\n",
       "      <td>0.583088</td>\n",
       "      <td>0.617866</td>\n",
       "      <td>0.612774</td>\n",
       "      <td>0.844485</td>\n",
       "      <td>0.327394</td>\n",
       "    </tr>\n",
       "    <tr>\n",
       "      <td>1000</td>\n",
       "      <td>0.162500</td>\n",
       "      <td>1.469644</td>\n",
       "      <td>0.605788</td>\n",
       "      <td>0.583751</td>\n",
       "      <td>0.604545</td>\n",
       "      <td>0.605788</td>\n",
       "      <td>0.806510</td>\n",
       "      <td>0.358575</td>\n",
       "    </tr>\n",
       "    <tr>\n",
       "      <td>1100</td>\n",
       "      <td>0.093800</td>\n",
       "      <td>1.626331</td>\n",
       "      <td>0.610778</td>\n",
       "      <td>0.575624</td>\n",
       "      <td>0.619070</td>\n",
       "      <td>0.610778</td>\n",
       "      <td>0.860759</td>\n",
       "      <td>0.302895</td>\n",
       "    </tr>\n",
       "  </tbody>\n",
       "</table><p>"
      ]
     },
     "metadata": {},
     "output_type": "display_data"
    },
    {
     "data": {
      "text/plain": [
       "TrainOutput(global_step=1120, training_loss=0.5037748295281614, metrics={'train_runtime': 1072.4978, 'train_samples_per_second': 33.417, 'train_steps_per_second': 1.044, 'total_flos': 414195925178880.0, 'train_loss': 0.5037748295281614, 'epoch': 4.0})"
      ]
     },
     "execution_count": 15,
     "metadata": {},
     "output_type": "execute_result"
    }
   ],
   "execution_count": 15
  },
  {
   "cell_type": "markdown",
   "id": "312c99b9c0d8561d",
   "metadata": {},
   "source": [
    "Save the results, the model and the state of the model."
   ]
  },
  {
   "cell_type": "code",
   "id": "2488383c06dfedb2",
   "metadata": {
    "ExecuteTime": {
     "end_time": "2025-01-13T10:13:50.118048Z",
     "start_time": "2025-01-13T10:13:50.117050Z"
    }
   },
   "source": [
    "result = trainer.evaluate(dataset_encoded['valid'])\n",
    "print(result)\n",
    "trainer.save_model(your_path)\n",
    "trainer.save_state()"
   ],
   "outputs": [],
   "execution_count": null
  },
  {
   "metadata": {},
   "cell_type": "code",
   "source": "print(result)",
   "id": "efa8012bae4904ee",
   "outputs": [],
   "execution_count": null
  }
 ],
 "metadata": {
  "kernelspec": {
   "display_name": "Python 3 (ipykernel)",
   "language": "python",
   "name": "python3"
  },
  "language_info": {
   "codemirror_mode": {
    "name": "ipython",
    "version": 3
   },
   "file_extension": ".py",
   "mimetype": "text/x-python",
   "name": "python",
   "nbconvert_exporter": "python",
   "pygments_lexer": "ipython3",
   "version": "3.12.2"
  }
 },
 "nbformat": 4,
 "nbformat_minor": 5
}
