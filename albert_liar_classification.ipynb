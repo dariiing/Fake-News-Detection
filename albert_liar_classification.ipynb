{
 "cells": [
  {
   "metadata": {},
   "cell_type": "markdown",
   "source": "Import the preprocessed LIAR dataset",
   "id": "8c967188b7db9412"
  },
  {
   "metadata": {
    "ExecuteTime": {
     "end_time": "2025-01-05T14:43:16.234968Z",
     "start_time": "2025-01-05T14:43:15.749619Z"
    }
   },
   "cell_type": "code",
   "source": [
    "from datasets import load_dataset\n",
    "\n",
    "dataset = load_dataset(\"csv\", data_files={'train': \"preprocessed_liar/liar_train.csv\", 'test': \"preprocessed_liar/liar_test.csv\"})\n",
    "print(dataset)"
   ],
   "id": "35f3f8cb0d176635",
   "outputs": [
    {
     "name": "stdout",
     "output_type": "stream",
     "text": [
      "DatasetDict({\n",
      "    train: Dataset({\n",
      "        features: ['label', 'statement'],\n",
      "        num_rows: 4500\n",
      "    })\n",
      "    test: Dataset({\n",
      "        features: ['label', 'statement'],\n",
      "        num_rows: 549\n",
      "    })\n",
      "})\n"
     ]
    }
   ],
   "execution_count": 144
  },
  {
   "metadata": {},
   "cell_type": "markdown",
   "source": "Pick the pre-trained model",
   "id": "b517a9d59eb42e76"
  },
  {
   "metadata": {
    "ExecuteTime": {
     "end_time": "2025-01-05T14:43:16.238332Z",
     "start_time": "2025-01-05T14:43:16.235976Z"
    }
   },
   "cell_type": "code",
   "source": [
    "model_name = \"albert/albert-base-v2\"\n",
    "your_path = 'liar_new_results'"
   ],
   "id": "7e5dd0e4d414bb8c",
   "outputs": [],
   "execution_count": 145
  },
  {
   "metadata": {},
   "cell_type": "markdown",
   "source": "Look over the label distribution",
   "id": "b4a1917732497053"
  },
  {
   "metadata": {
    "ExecuteTime": {
     "end_time": "2025-01-05T14:43:16.244770Z",
     "start_time": "2025-01-05T14:43:16.239340Z"
    }
   },
   "cell_type": "code",
   "source": [
    "from collections import Counter\n",
    "\n",
    "train_label_distribution = Counter(dataset['train']['label'])\n",
    "test_label_distribution = Counter(dataset['test']['label'])\n",
    "\n",
    "print(\"Training Label Distribution:\", train_label_distribution)\n",
    "print(\"Test Label Distribution:\", test_label_distribution)"
   ],
   "id": "93a4c785ef92b56d",
   "outputs": [
    {
     "name": "stdout",
     "output_type": "stream",
     "text": [
      "Training Label Distribution: Counter({False: 2826, True: 1674})\n",
      "Test Label Distribution: Counter({False: 341, True: 208})\n"
     ]
    }
   ],
   "execution_count": 146
  },
  {
   "metadata": {},
   "cell_type": "markdown",
   "source": "Labels in their original form are strings (true/false). We need to convert them to numerical values so they can be processed by the model.",
   "id": "22adf2174484ab0e"
  },
  {
   "metadata": {
    "ExecuteTime": {
     "end_time": "2025-01-05T14:43:16.256977Z",
     "start_time": "2025-01-05T14:43:16.246223Z"
    }
   },
   "cell_type": "code",
   "source": [
    "from sklearn.preprocessing import LabelEncoder\n",
    "\n",
    "label_encoder = LabelEncoder()\n",
    "\n",
    "label_encoder.fit(dataset['train']['label'])\n",
    "\n",
    "def encode_labels(example):\n",
    "    return {'encoded_label': label_encoder.transform([example['label']])[0]}\n",
    "\n",
    "for split in dataset:\n",
    "    dataset[split] = dataset[split].map(encode_labels, batched=False)"
   ],
   "id": "119cfede3e42a1a0",
   "outputs": [],
   "execution_count": 147
  },
  {
   "metadata": {},
   "cell_type": "markdown",
   "source": "The id2label and label2id mappings in AutoConfig are used to inform the model of the specific label-to-ID mappings so we can get the actual label names rather than the numerical reps when we do inference with the model.",
   "id": "5235ccf546e00f40"
  },
  {
   "metadata": {
    "ExecuteTime": {
     "end_time": "2025-01-05T14:43:16.509861Z",
     "start_time": "2025-01-05T14:43:16.257982Z"
    }
   },
   "cell_type": "code",
   "source": [
    "from transformers import AutoConfig\n",
    "\n",
    "unique_labels = sorted(list(set(dataset['train']['label'])))\n",
    "id2label = {i: label for i, label in enumerate(unique_labels)}\n",
    "label2id = {label: i for i, label in enumerate(unique_labels)}\n",
    "\n",
    "config = AutoConfig.from_pretrained(model_name)\n",
    "config.id2label = id2label\n",
    "config.label2id = label2id"
   ],
   "id": "74e36377950e72f5",
   "outputs": [],
   "execution_count": 148
  },
  {
   "metadata": {},
   "cell_type": "markdown",
   "source": "Verify the correct labels are being used",
   "id": "c3ae7f0e40d930d7"
  },
  {
   "metadata": {
    "ExecuteTime": {
     "end_time": "2025-01-05T14:43:16.512948Z",
     "start_time": "2025-01-05T14:43:16.509861Z"
    }
   },
   "cell_type": "code",
   "source": [
    "print(\"ID to Label Mapping:\", config.id2label)\n",
    "print(\"Label to ID Mapping:\", config.label2id)"
   ],
   "id": "2408315af31a0c8f",
   "outputs": [
    {
     "name": "stdout",
     "output_type": "stream",
     "text": [
      "ID to Label Mapping: {0: False, 1: True}\n",
      "Label to ID Mapping: {False: 0, True: 1}\n"
     ]
    }
   ],
   "execution_count": 149
  },
  {
   "metadata": {},
   "cell_type": "markdown",
   "source": "",
   "id": "4302a4edd5f344dc"
  },
  {
   "metadata": {},
   "cell_type": "markdown",
   "source": "Now, we need to tokenize the text data so it can be processed by the model. We will use the tokenizer that corresponds to the model we are using from Hugging Face's Transformers library.",
   "id": "5474992b3860f0fc"
  },
  {
   "metadata": {
    "ExecuteTime": {
     "end_time": "2025-01-05T14:43:16.800863Z",
     "start_time": "2025-01-05T14:43:16.512948Z"
    }
   },
   "cell_type": "code",
   "source": [
    "from transformers import AlbertForSequenceClassification, AlbertTokenizer\n",
    "\n",
    "tokenizer = AlbertTokenizer.from_pretrained(model_name)\n",
    "model = AlbertForSequenceClassification.from_pretrained(model_name, config=config)"
   ],
   "id": "4e36576eb2017537",
   "outputs": [
    {
     "name": "stderr",
     "output_type": "stream",
     "text": [
      "Some weights of AlbertForSequenceClassification were not initialized from the model checkpoint at albert/albert-base-v2 and are newly initialized: ['classifier.bias', 'classifier.weight']\n",
      "You should probably TRAIN this model on a down-stream task to be able to use it for predictions and inference.\n"
     ]
    }
   ],
   "execution_count": 150
  },
  {
   "metadata": {},
   "cell_type": "markdown",
   "source": "We need to filter out any examples that have invalid content (e.g. empty strings) before tokenizing the data. Then, we will encode the labels and tokenize the text data. Tokenizing means converting the text data into numerical representations that can be processed by the model.",
   "id": "9c96fd96434c097a"
  },
  {
   "metadata": {
    "ExecuteTime": {
     "end_time": "2025-01-05T14:43:16.812110Z",
     "start_time": "2025-01-05T14:43:16.802117Z"
    }
   },
   "cell_type": "code",
   "source": [
    "def filter_invalid_content(example):\n",
    "    return isinstance(example['statement'], str)\n",
    "\n",
    "dataset = dataset.filter(filter_invalid_content, batched=False)\n",
    "\n",
    "def encode_data(batch):\n",
    "    tokenized_inputs = tokenizer(batch[\"statement\"], padding=True, truncation=True, max_length=256)\n",
    "    tokenized_inputs[\"labels\"] = batch[\"encoded_label\"]\n",
    "    return tokenized_inputs"
   ],
   "id": "7f27f8afbaeda6a5",
   "outputs": [],
   "execution_count": 151
  },
  {
   "metadata": {},
   "cell_type": "markdown",
   "source": "Verify the data is tokenized correctly:",
   "id": "973e8f2b24dbe374"
  },
  {
   "metadata": {
    "ExecuteTime": {
     "end_time": "2025-01-05T14:43:16.830987Z",
     "start_time": "2025-01-05T14:43:16.812110Z"
    }
   },
   "cell_type": "code",
   "source": [
    "dataset_encoded = dataset.map(encode_data, batched=True)\n",
    "print(dataset_encoded) "
   ],
   "id": "de404dd0d21bfe4c",
   "outputs": [
    {
     "name": "stdout",
     "output_type": "stream",
     "text": [
      "DatasetDict({\n",
      "    train: Dataset({\n",
      "        features: ['label', 'statement', 'encoded_label', 'input_ids', 'token_type_ids', 'attention_mask', 'labels'],\n",
      "        num_rows: 4500\n",
      "    })\n",
      "    test: Dataset({\n",
      "        features: ['label', 'statement', 'encoded_label', 'input_ids', 'token_type_ids', 'attention_mask', 'labels'],\n",
      "        num_rows: 549\n",
      "    })\n",
      "})\n"
     ]
    }
   ],
   "execution_count": 152
  },
  {
   "metadata": {},
   "cell_type": "markdown",
   "source": "The DataCollatorWithPadding ensures that all input sequences in a batch are padded to the same length, using the padding logic defined by the tokenizer. This is necessary because the model can only process inputs of the same length.",
   "id": "51966d61db6c9e28"
  },
  {
   "metadata": {
    "ExecuteTime": {
     "end_time": "2025-01-05T14:43:16.836694Z",
     "start_time": "2025-01-05T14:43:16.832508Z"
    }
   },
   "cell_type": "code",
   "source": "dataset_encoded.set_format(type='torch', columns=['input_ids', 'attention_mask', 'labels'])",
   "id": "a60029459b5015dc",
   "outputs": [],
   "execution_count": 153
  },
  {
   "metadata": {
    "ExecuteTime": {
     "end_time": "2025-01-05T14:43:16.839663Z",
     "start_time": "2025-01-05T14:43:16.836694Z"
    }
   },
   "cell_type": "code",
   "source": [
    "from transformers import DataCollatorWithPadding\n",
    "\n",
    "data_collator = DataCollatorWithPadding(tokenizer)"
   ],
   "id": "44e5507bc487e0a0",
   "outputs": [],
   "execution_count": 154
  },
  {
   "metadata": {},
   "cell_type": "markdown",
   "source": "Next we'll set up LabelEncoder to encode labels and defines a function to compute per-label accuracy from a confusion matrix, providing label-specific accuracy metrics. I.e. when we train the model we want to see the accuracy metrics per label as well as the average metrics. This is more relevant if you have more than two labels, and one is underperforming. ",
   "id": "b3b532b39e3f67bb"
  },
  {
   "metadata": {
    "ExecuteTime": {
     "end_time": "2025-01-05T14:43:16.844341Z",
     "start_time": "2025-01-05T14:43:16.839663Z"
    }
   },
   "cell_type": "code",
   "source": [
    "from sklearn.preprocessing import LabelEncoder\n",
    "from sklearn.metrics import confusion_matrix\n",
    "import numpy as np\n",
    "\n",
    "label_encoder = LabelEncoder()\n",
    "label_encoder.fit(unique_labels)\n",
    "\n",
    "def per_label_accuracy(y_true, y_pred, labels):\n",
    "    cm = confusion_matrix(y_true, y_pred, labels=labels)\n",
    "    correct_predictions = cm.diagonal()\n",
    "    label_totals = cm.sum(axis=1)\n",
    "    per_label_acc = np.divide(correct_predictions, label_totals, out=np.zeros_like(correct_predictions, dtype=float), where=label_totals != 0)\n",
    "    return dict(zip(labels, per_label_acc))"
   ],
   "id": "6631dde6b29a5f95",
   "outputs": [],
   "execution_count": 155
  },
  {
   "metadata": {},
   "cell_type": "markdown",
   "source": "Compute the following metrics: accuracy, precision, recall, f1 score, and per-label accuracy.",
   "id": "e1dbb72b88c986ae"
  },
  {
   "metadata": {
    "ExecuteTime": {
     "end_time": "2025-01-05T14:43:16.848814Z",
     "start_time": "2025-01-05T14:43:16.844341Z"
    }
   },
   "cell_type": "code",
   "source": [
    "from sklearn.metrics import accuracy_score, recall_score, precision_score, f1_score\n",
    "\n",
    "def compute_metrics(pred):\n",
    "    labels = pred.label_ids\n",
    "    preds = pred.predictions.argmax(-1)\n",
    "\n",
    "    decoded_labels = label_encoder.inverse_transform(labels)\n",
    "    decoded_preds = label_encoder.inverse_transform(preds)\n",
    "\n",
    "    precision = precision_score(decoded_labels, decoded_preds, average='weighted')\n",
    "    recall = recall_score(decoded_labels, decoded_preds, average='weighted')\n",
    "    f1 = f1_score(decoded_labels, decoded_preds, average='weighted')\n",
    "    acc = accuracy_score(decoded_labels, decoded_preds)\n",
    "\n",
    "    labels_list = list(label_encoder.classes_)\n",
    "    per_label_acc = per_label_accuracy(decoded_labels, decoded_preds, labels_list)\n",
    "\n",
    "    per_label_acc_metrics = {}\n",
    "    for label, accuracy in per_label_acc.items():\n",
    "        label_key = f\"accuracy_label_{label}\"\n",
    "        per_label_acc_metrics[label_key] = accuracy\n",
    "\n",
    "    return {\n",
    "        'accuracy': acc,\n",
    "        'f1': f1,\n",
    "        'precision': precision,\n",
    "        'recall': recall,\n",
    "        **per_label_acc_metrics\n",
    "    }"
   ],
   "id": "dbc426b92f30f17e",
   "outputs": [],
   "execution_count": 156
  },
  {
   "metadata": {},
   "cell_type": "markdown",
   "source": "Next, the training begins. Training loss and validation loss should decrease consistenly. If the training loss is decreasing but the validation loss is increasing, the model is overfitting. If both are increasing, the model is underfitting.",
   "id": "89b117a85c9dd98e"
  },
  {
   "metadata": {
    "ExecuteTime": {
     "end_time": "2025-01-05T14:49:56.844439Z",
     "start_time": "2025-01-05T14:43:16.848814Z"
    }
   },
   "cell_type": "code",
   "source": [
    "from transformers import Trainer, TrainingArguments\n",
    "\n",
    "training_args = TrainingArguments(\n",
    "    output_dir='./output',\n",
    "    num_train_epochs=3,\n",
    "    warmup_steps=500,\n",
    "    per_device_train_batch_size=16,\n",
    "    per_device_eval_batch_size=16,\n",
    "    weight_decay=0.01,\n",
    "    logging_steps=10,\n",
    "    eval_strategy='steps',\n",
    "    eval_steps=100,\n",
    "    learning_rate=2e-5,\n",
    "    save_steps=1000,\n",
    "    gradient_accumulation_steps=2,\n",
    ")\n",
    "\n",
    "import logging\n",
    "logging.basicConfig(level=logging.INFO)\n",
    "\n",
    "trainer = Trainer(\n",
    "    model=model,\n",
    "    args=training_args,\n",
    "    train_dataset=dataset_encoded['train'],\n",
    "    eval_dataset=dataset_encoded['test'],\n",
    "    compute_metrics=compute_metrics,\n",
    "    processing_class=tokenizer,\n",
    "    data_collator=data_collator,\n",
    ")\n",
    "\n",
    "trainer.train()\n"
   ],
   "id": "af40704b3d471dce",
   "outputs": [
    {
     "data": {
      "text/plain": [
       "<IPython.core.display.HTML object>"
      ],
      "text/html": [
       "\n",
       "    <div>\n",
       "      \n",
       "      <progress value='423' max='423' style='width:300px; height:20px; vertical-align: middle;'></progress>\n",
       "      [423/423 06:37, Epoch 3/3]\n",
       "    </div>\n",
       "    <table border=\"1\" class=\"dataframe\">\n",
       "  <thead>\n",
       " <tr style=\"text-align: left;\">\n",
       "      <th>Step</th>\n",
       "      <th>Training Loss</th>\n",
       "      <th>Validation Loss</th>\n",
       "      <th>Accuracy</th>\n",
       "      <th>F1</th>\n",
       "      <th>Precision</th>\n",
       "      <th>Recall</th>\n",
       "      <th>Accuracy Label False</th>\n",
       "      <th>Accuracy Label True</th>\n",
       "    </tr>\n",
       "  </thead>\n",
       "  <tbody>\n",
       "    <tr>\n",
       "      <td>100</td>\n",
       "      <td>1.356400</td>\n",
       "      <td>0.647134</td>\n",
       "      <td>0.630237</td>\n",
       "      <td>0.513742</td>\n",
       "      <td>0.636276</td>\n",
       "      <td>0.630237</td>\n",
       "      <td>0.982405</td>\n",
       "      <td>0.052885</td>\n",
       "    </tr>\n",
       "    <tr>\n",
       "      <td>200</td>\n",
       "      <td>1.263400</td>\n",
       "      <td>0.615446</td>\n",
       "      <td>0.677596</td>\n",
       "      <td>0.658112</td>\n",
       "      <td>0.666588</td>\n",
       "      <td>0.677596</td>\n",
       "      <td>0.850440</td>\n",
       "      <td>0.394231</td>\n",
       "    </tr>\n",
       "    <tr>\n",
       "      <td>300</td>\n",
       "      <td>1.206400</td>\n",
       "      <td>0.619613</td>\n",
       "      <td>0.663024</td>\n",
       "      <td>0.644236</td>\n",
       "      <td>0.649395</td>\n",
       "      <td>0.663024</td>\n",
       "      <td>0.832845</td>\n",
       "      <td>0.384615</td>\n",
       "    </tr>\n",
       "    <tr>\n",
       "      <td>400</td>\n",
       "      <td>1.054700</td>\n",
       "      <td>0.644912</td>\n",
       "      <td>0.681239</td>\n",
       "      <td>0.653557</td>\n",
       "      <td>0.673564</td>\n",
       "      <td>0.681239</td>\n",
       "      <td>0.882698</td>\n",
       "      <td>0.350962</td>\n",
       "    </tr>\n",
       "  </tbody>\n",
       "</table><p>"
      ]
     },
     "metadata": {},
     "output_type": "display_data"
    },
    {
     "data": {
      "text/plain": [
       "TrainOutput(global_step=423, training_loss=1.238850614985112, metrics={'train_runtime': 399.0035, 'train_samples_per_second': 33.834, 'train_steps_per_second': 1.06, 'total_flos': 161312186880000.0, 'train_loss': 1.238850614985112, 'epoch': 3.0})"
      ]
     },
     "execution_count": 157,
     "metadata": {},
     "output_type": "execute_result"
    }
   ],
   "execution_count": 157
  },
  {
   "metadata": {},
   "cell_type": "markdown",
   "source": "Save the results, the model and the state of the model.",
   "id": "312c99b9c0d8561d"
  },
  {
   "metadata": {
    "ExecuteTime": {
     "end_time": "2025-01-05T14:50:02.776610Z",
     "start_time": "2025-01-05T14:49:56.844944Z"
    }
   },
   "cell_type": "code",
   "source": [
    "trainer.evaluate()\n",
    "trainer.save_model(your_path)\n",
    "trainer.save_state()"
   ],
   "id": "2488383c06dfedb2",
   "outputs": [
    {
     "data": {
      "text/plain": [
       "<IPython.core.display.HTML object>"
      ],
      "text/html": [
       "\n",
       "    <div>\n",
       "      \n",
       "      <progress value='35' max='35' style='width:300px; height:20px; vertical-align: middle;'></progress>\n",
       "      [35/35 00:05]\n",
       "    </div>\n",
       "    "
      ]
     },
     "metadata": {},
     "output_type": "display_data"
    }
   ],
   "execution_count": 158
  },
  {
   "metadata": {
    "ExecuteTime": {
     "end_time": "2025-01-05T14:50:02.781623Z",
     "start_time": "2025-01-05T14:50:02.777617Z"
    }
   },
   "cell_type": "code",
   "source": [
    "import torch\n",
    "\n",
    "torch.cuda.is_available()"
   ],
   "id": "9648c6571f5cceb0",
   "outputs": [
    {
     "data": {
      "text/plain": [
       "True"
      ]
     },
     "execution_count": 159,
     "metadata": {},
     "output_type": "execute_result"
    }
   ],
   "execution_count": 159
  },
  {
   "metadata": {
    "ExecuteTime": {
     "end_time": "2025-01-05T14:50:02.787128Z",
     "start_time": "2025-01-05T14:50:02.782129Z"
    }
   },
   "cell_type": "code",
   "source": "torch.cuda.current_device()",
   "id": "3268a7e04c618e78",
   "outputs": [
    {
     "data": {
      "text/plain": [
       "0"
      ]
     },
     "execution_count": 160,
     "metadata": {},
     "output_type": "execute_result"
    }
   ],
   "execution_count": 160
  },
  {
   "metadata": {
    "ExecuteTime": {
     "end_time": "2025-01-05T14:50:02.790461Z",
     "start_time": "2025-01-05T14:50:02.788136Z"
    }
   },
   "cell_type": "code",
   "source": "",
   "id": "9f31f5e29794f264",
   "outputs": [],
   "execution_count": 160
  }
 ],
 "metadata": {
  "kernelspec": {
   "display_name": "Python 3",
   "language": "python",
   "name": "python3"
  },
  "language_info": {
   "codemirror_mode": {
    "name": "ipython",
    "version": 2
   },
   "file_extension": ".py",
   "mimetype": "text/x-python",
   "name": "python",
   "nbconvert_exporter": "python",
   "pygments_lexer": "ipython2",
   "version": "2.7.6"
  }
 },
 "nbformat": 4,
 "nbformat_minor": 5
}
