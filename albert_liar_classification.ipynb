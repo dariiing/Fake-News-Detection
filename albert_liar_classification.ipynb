{
 "cells": [
  {
   "cell_type": "markdown",
   "id": "8c967188b7db9412",
   "metadata": {},
   "source": [
    "Import the preprocessed LIAR dataset"
   ]
  },
  {
   "cell_type": "code",
   "id": "35f3f8cb0d176635",
   "metadata": {
    "ExecuteTime": {
     "end_time": "2025-01-15T19:30:27.456778Z",
     "start_time": "2025-01-15T19:30:24.936147Z"
    }
   },
   "source": [
    "from datasets import load_dataset\n",
    "\n",
    "dataset = load_dataset(\n",
    "    \"csv\", \n",
    "    data_files={\n",
    "        'train': \"preprocessed_liar/liar_train.csv\", 'test': \"preprocessed_liar/liar_test.csv\", 'valid': \"preprocessed_liar/liar_valid.csv\"})\n",
    "print(dataset)"
   ],
   "outputs": [
    {
     "name": "stdout",
     "output_type": "stream",
     "text": [
      "DatasetDict({\n",
      "    train: Dataset({\n",
      "        features: ['label', 'statement'],\n",
      "        num_rows: 8116\n",
      "    })\n",
      "    test: Dataset({\n",
      "        features: ['label', 'statement'],\n",
      "        num_rows: 1002\n",
      "    })\n",
      "    valid: Dataset({\n",
      "        features: ['label', 'statement'],\n",
      "        num_rows: 1036\n",
      "    })\n",
      "})\n"
     ]
    }
   ],
   "execution_count": 1
  },
  {
   "cell_type": "markdown",
   "id": "b517a9d59eb42e76",
   "metadata": {},
   "source": [
    "Pick the pre-trained model"
   ]
  },
  {
   "cell_type": "code",
   "id": "7e5dd0e4d414bb8c",
   "metadata": {
    "ExecuteTime": {
     "end_time": "2025-01-15T19:30:27.465092Z",
     "start_time": "2025-01-15T19:30:27.460861Z"
    }
   },
   "source": [
    "model_name = \"albert/albert-base-v2\"\n",
    "your_path = 'liar_new_results'"
   ],
   "outputs": [],
   "execution_count": 2
  },
  {
   "cell_type": "markdown",
   "id": "b4a1917732497053",
   "metadata": {},
   "source": [
    "Look over the label distribution"
   ]
  },
  {
   "cell_type": "code",
   "id": "93a4c785ef92b56d",
   "metadata": {
    "ExecuteTime": {
     "end_time": "2025-01-15T19:30:27.556434Z",
     "start_time": "2025-01-15T19:30:27.547649Z"
    }
   },
   "source": [
    "from collections import Counter\n",
    "\n",
    "train_label_distribution = Counter(dataset['train']['label'])\n",
    "test_label_distribution = Counter(dataset['test']['label'])\n",
    "\n",
    "print(\"Training Label Distribution:\", train_label_distribution)\n",
    "print(\"Test Label Distribution:\", test_label_distribution)"
   ],
   "outputs": [
    {
     "name": "stdout",
     "output_type": "stream",
     "text": [
      "Training Label Distribution: Counter({False: 4480, True: 3636})\n",
      "Test Label Distribution: Counter({False: 553, True: 449})\n"
     ]
    }
   ],
   "execution_count": 3
  },
  {
   "cell_type": "markdown",
   "id": "22adf2174484ab0e",
   "metadata": {},
   "source": [
    "Labels in their original form are strings (true/false). We need to convert them to numerical values so they can be processed by the model."
   ]
  },
  {
   "cell_type": "code",
   "id": "119cfede3e42a1a0",
   "metadata": {
    "ExecuteTime": {
     "end_time": "2025-01-15T19:30:28.054252Z",
     "start_time": "2025-01-15T19:30:27.560433Z"
    }
   },
   "source": [
    "from sklearn.preprocessing import LabelEncoder\n",
    "\n",
    "label_encoder = LabelEncoder()\n",
    "\n",
    "label_encoder.fit(dataset['train']['label'])\n",
    "\n",
    "def encode_labels(example):\n",
    "    return {'encoded_label': label_encoder.transform([example['label']])[0]}\n",
    "\n",
    "for split in dataset:\n",
    "    dataset[split] = dataset[split].map(encode_labels, batched=False)"
   ],
   "outputs": [],
   "execution_count": 4
  },
  {
   "cell_type": "markdown",
   "id": "5235ccf546e00f40",
   "metadata": {},
   "source": [
    "The id2label and label2id mappings in AutoConfig are used to inform the model of the specific label-to-ID mappings so we can get the actual label names rather than the numerical reps when we do inference with the model."
   ]
  },
  {
   "cell_type": "code",
   "id": "74e36377950e72f5",
   "metadata": {
    "ExecuteTime": {
     "end_time": "2025-01-15T19:30:31.358741Z",
     "start_time": "2025-01-15T19:30:28.063524Z"
    }
   },
   "source": [
    "from transformers import AutoConfig\n",
    "\n",
    "unique_labels = sorted(list(set(dataset['train']['label'])))\n",
    "id2label = {i: label for i, label in enumerate(unique_labels)}\n",
    "label2id = {label: i for i, label in enumerate(unique_labels)}\n",
    "\n",
    "config = AutoConfig.from_pretrained(model_name)\n",
    "config.id2label = id2label\n",
    "config.label2id = label2id"
   ],
   "outputs": [],
   "execution_count": 5
  },
  {
   "cell_type": "markdown",
   "id": "c3ae7f0e40d930d7",
   "metadata": {},
   "source": [
    "Verify the correct labels are being used"
   ]
  },
  {
   "cell_type": "code",
   "id": "2408315af31a0c8f",
   "metadata": {
    "ExecuteTime": {
     "end_time": "2025-01-15T19:30:31.372064Z",
     "start_time": "2025-01-15T19:30:31.368066Z"
    }
   },
   "source": [
    "print(\"ID to Label Mapping:\", config.id2label)\n",
    "print(\"Label to ID Mapping:\", config.label2id)"
   ],
   "outputs": [
    {
     "name": "stdout",
     "output_type": "stream",
     "text": [
      "ID to Label Mapping: {0: False, 1: True}\n",
      "Label to ID Mapping: {False: 0, True: 1}\n"
     ]
    }
   ],
   "execution_count": 6
  },
  {
   "cell_type": "markdown",
   "id": "4302a4edd5f344dc",
   "metadata": {},
   "source": []
  },
  {
   "cell_type": "markdown",
   "id": "5474992b3860f0fc",
   "metadata": {},
   "source": [
    "Now, we need to tokenize the text data so it can be processed by the model. We will use the tokenizer that corresponds to the model we are using from Hugging Face's Transformers library."
   ]
  },
  {
   "cell_type": "code",
   "id": "4e36576eb2017537",
   "metadata": {
    "ExecuteTime": {
     "end_time": "2025-01-15T19:30:33.597262Z",
     "start_time": "2025-01-15T19:30:31.387869Z"
    }
   },
   "source": [
    "from transformers import AlbertForSequenceClassification, AlbertTokenizer\n",
    "\n",
    "tokenizer = AlbertTokenizer.from_pretrained(model_name)\n",
    "model = AlbertForSequenceClassification.from_pretrained(model_name, config=config)"
   ],
   "outputs": [
    {
     "name": "stderr",
     "output_type": "stream",
     "text": [
      "Some weights of AlbertForSequenceClassification were not initialized from the model checkpoint at albert/albert-base-v2 and are newly initialized: ['classifier.bias', 'classifier.weight']\n",
      "You should probably TRAIN this model on a down-stream task to be able to use it for predictions and inference.\n"
     ]
    }
   ],
   "execution_count": 7
  },
  {
   "metadata": {
    "ExecuteTime": {
     "end_time": "2025-01-15T19:30:33.610699Z",
     "start_time": "2025-01-15T19:30:33.606368Z"
    }
   },
   "cell_type": "code",
   "source": "print(model)",
   "id": "4f4dc78aa0390f2a",
   "outputs": [
    {
     "name": "stdout",
     "output_type": "stream",
     "text": [
      "AlbertForSequenceClassification(\n",
      "  (albert): AlbertModel(\n",
      "    (embeddings): AlbertEmbeddings(\n",
      "      (word_embeddings): Embedding(30000, 128, padding_idx=0)\n",
      "      (position_embeddings): Embedding(512, 128)\n",
      "      (token_type_embeddings): Embedding(2, 128)\n",
      "      (LayerNorm): LayerNorm((128,), eps=1e-12, elementwise_affine=True)\n",
      "      (dropout): Dropout(p=0, inplace=False)\n",
      "    )\n",
      "    (encoder): AlbertTransformer(\n",
      "      (embedding_hidden_mapping_in): Linear(in_features=128, out_features=768, bias=True)\n",
      "      (albert_layer_groups): ModuleList(\n",
      "        (0): AlbertLayerGroup(\n",
      "          (albert_layers): ModuleList(\n",
      "            (0): AlbertLayer(\n",
      "              (full_layer_layer_norm): LayerNorm((768,), eps=1e-12, elementwise_affine=True)\n",
      "              (attention): AlbertSdpaAttention(\n",
      "                (query): Linear(in_features=768, out_features=768, bias=True)\n",
      "                (key): Linear(in_features=768, out_features=768, bias=True)\n",
      "                (value): Linear(in_features=768, out_features=768, bias=True)\n",
      "                (attention_dropout): Dropout(p=0, inplace=False)\n",
      "                (output_dropout): Dropout(p=0, inplace=False)\n",
      "                (dense): Linear(in_features=768, out_features=768, bias=True)\n",
      "                (LayerNorm): LayerNorm((768,), eps=1e-12, elementwise_affine=True)\n",
      "              )\n",
      "              (ffn): Linear(in_features=768, out_features=3072, bias=True)\n",
      "              (ffn_output): Linear(in_features=3072, out_features=768, bias=True)\n",
      "              (activation): NewGELUActivation()\n",
      "              (dropout): Dropout(p=0, inplace=False)\n",
      "            )\n",
      "          )\n",
      "        )\n",
      "      )\n",
      "    )\n",
      "    (pooler): Linear(in_features=768, out_features=768, bias=True)\n",
      "    (pooler_activation): Tanh()\n",
      "  )\n",
      "  (dropout): Dropout(p=0.1, inplace=False)\n",
      "  (classifier): Linear(in_features=768, out_features=2, bias=True)\n",
      ")\n"
     ]
    }
   ],
   "execution_count": 8
  },
  {
   "metadata": {
    "ExecuteTime": {
     "end_time": "2025-01-15T19:30:33.639502Z",
     "start_time": "2025-01-15T19:30:33.633502Z"
    }
   },
   "cell_type": "code",
   "source": [
    "for name, param in model.named_parameters():\n",
    "    if \"classifier\" or \"embeddings\" not in name:\n",
    "        param.requires_grad = False\n",
    "\n",
    "for name, param in model.named_parameters():\n",
    "    print(name, param.requires_grad)"
   ],
   "id": "b3a15e55da0a54b1",
   "outputs": [
    {
     "name": "stdout",
     "output_type": "stream",
     "text": [
      "albert.embeddings.word_embeddings.weight False\n",
      "albert.embeddings.position_embeddings.weight False\n",
      "albert.embeddings.token_type_embeddings.weight False\n",
      "albert.embeddings.LayerNorm.weight False\n",
      "albert.embeddings.LayerNorm.bias False\n",
      "albert.encoder.embedding_hidden_mapping_in.weight False\n",
      "albert.encoder.embedding_hidden_mapping_in.bias False\n",
      "albert.encoder.albert_layer_groups.0.albert_layers.0.full_layer_layer_norm.weight False\n",
      "albert.encoder.albert_layer_groups.0.albert_layers.0.full_layer_layer_norm.bias False\n",
      "albert.encoder.albert_layer_groups.0.albert_layers.0.attention.query.weight False\n",
      "albert.encoder.albert_layer_groups.0.albert_layers.0.attention.query.bias False\n",
      "albert.encoder.albert_layer_groups.0.albert_layers.0.attention.key.weight False\n",
      "albert.encoder.albert_layer_groups.0.albert_layers.0.attention.key.bias False\n",
      "albert.encoder.albert_layer_groups.0.albert_layers.0.attention.value.weight False\n",
      "albert.encoder.albert_layer_groups.0.albert_layers.0.attention.value.bias False\n",
      "albert.encoder.albert_layer_groups.0.albert_layers.0.attention.dense.weight False\n",
      "albert.encoder.albert_layer_groups.0.albert_layers.0.attention.dense.bias False\n",
      "albert.encoder.albert_layer_groups.0.albert_layers.0.attention.LayerNorm.weight False\n",
      "albert.encoder.albert_layer_groups.0.albert_layers.0.attention.LayerNorm.bias False\n",
      "albert.encoder.albert_layer_groups.0.albert_layers.0.ffn.weight False\n",
      "albert.encoder.albert_layer_groups.0.albert_layers.0.ffn.bias False\n",
      "albert.encoder.albert_layer_groups.0.albert_layers.0.ffn_output.weight False\n",
      "albert.encoder.albert_layer_groups.0.albert_layers.0.ffn_output.bias False\n",
      "albert.pooler.weight False\n",
      "albert.pooler.bias False\n",
      "classifier.weight True\n",
      "classifier.bias True\n"
     ]
    }
   ],
   "execution_count": 9
  },
  {
   "cell_type": "markdown",
   "id": "9c96fd96434c097a",
   "metadata": {},
   "source": [
    "We need to filter out any examples that have invalid content (e.g. empty strings) before tokenizing the data. Then, we will encode the labels and tokenize the text data. Tokenizing means converting the text data into numerical representations that can be processed by the model."
   ]
  },
  {
   "cell_type": "code",
   "id": "7f27f8afbaeda6a5",
   "metadata": {
    "ExecuteTime": {
     "end_time": "2025-01-15T19:30:33.658300Z",
     "start_time": "2025-01-15T19:30:33.645838Z"
    }
   },
   "source": [
    "def filter_invalid_content(example):\n",
    "    return isinstance(example['statement'], str)\n",
    "\n",
    "dataset = dataset.filter(filter_invalid_content, batched=False)\n",
    "\n",
    "def encode_data(batch):\n",
    "    tokenized_inputs = tokenizer(batch[\"statement\"], padding=True, truncation=True, max_length=256)\n",
    "    tokenized_inputs[\"labels\"] = batch[\"encoded_label\"]\n",
    "    return tokenized_inputs"
   ],
   "outputs": [],
   "execution_count": 10
  },
  {
   "cell_type": "markdown",
   "id": "973e8f2b24dbe374",
   "metadata": {},
   "source": [
    "Verify the data is tokenized correctly:"
   ]
  },
  {
   "cell_type": "code",
   "id": "de404dd0d21bfe4c",
   "metadata": {
    "ExecuteTime": {
     "end_time": "2025-01-15T19:30:33.694336Z",
     "start_time": "2025-01-15T19:30:33.670339Z"
    }
   },
   "source": [
    "dataset_encoded = dataset.map(encode_data, batched=True)\n",
    "print(dataset_encoded) "
   ],
   "outputs": [
    {
     "name": "stdout",
     "output_type": "stream",
     "text": [
      "DatasetDict({\n",
      "    train: Dataset({\n",
      "        features: ['label', 'statement', 'encoded_label', 'input_ids', 'token_type_ids', 'attention_mask', 'labels'],\n",
      "        num_rows: 8116\n",
      "    })\n",
      "    test: Dataset({\n",
      "        features: ['label', 'statement', 'encoded_label', 'input_ids', 'token_type_ids', 'attention_mask', 'labels'],\n",
      "        num_rows: 1002\n",
      "    })\n",
      "    valid: Dataset({\n",
      "        features: ['label', 'statement', 'encoded_label', 'input_ids', 'token_type_ids', 'attention_mask', 'labels'],\n",
      "        num_rows: 1036\n",
      "    })\n",
      "})\n"
     ]
    }
   ],
   "execution_count": 11
  },
  {
   "cell_type": "markdown",
   "id": "51966d61db6c9e28",
   "metadata": {},
   "source": [
    "The DataCollatorWithPadding ensures that all input sequences in a batch are padded to the same length, using the padding logic defined by the tokenizer. This is necessary because the model can only process inputs of the same length."
   ]
  },
  {
   "cell_type": "code",
   "id": "a60029459b5015dc",
   "metadata": {
    "ExecuteTime": {
     "end_time": "2025-01-15T19:30:33.707756Z",
     "start_time": "2025-01-15T19:30:33.703940Z"
    }
   },
   "source": [
    "dataset_encoded.set_format(type='torch', columns=['input_ids', 'attention_mask', 'labels'])"
   ],
   "outputs": [],
   "execution_count": 12
  },
  {
   "cell_type": "code",
   "id": "44e5507bc487e0a0",
   "metadata": {
    "ExecuteTime": {
     "end_time": "2025-01-15T19:30:33.771992Z",
     "start_time": "2025-01-15T19:30:33.718220Z"
    }
   },
   "source": [
    "from transformers import DataCollatorWithPadding\n",
    "\n",
    "data_collator = DataCollatorWithPadding(tokenizer)"
   ],
   "outputs": [],
   "execution_count": 13
  },
  {
   "cell_type": "markdown",
   "id": "b3b532b39e3f67bb",
   "metadata": {},
   "source": [
    "Next we'll set up LabelEncoder to encode labels and defines a function to compute per-label accuracy from a confusion matrix, providing label-specific accuracy metrics. I.e. when we train the model we want to see the accuracy metrics per label as well as the average metrics. This is more relevant if you have more than two labels, and one is underperforming. "
   ]
  },
  {
   "cell_type": "code",
   "id": "6631dde6b29a5f95",
   "metadata": {
    "ExecuteTime": {
     "end_time": "2025-01-15T19:30:33.785108Z",
     "start_time": "2025-01-15T19:30:33.780820Z"
    }
   },
   "source": [
    "from sklearn.preprocessing import LabelEncoder\n",
    "from sklearn.metrics import confusion_matrix\n",
    "import numpy as np\n",
    "\n",
    "label_encoder = LabelEncoder()\n",
    "label_encoder.fit(unique_labels)\n",
    "\n",
    "def per_label_accuracy(y_true, y_pred, labels):\n",
    "    cm = confusion_matrix(y_true, y_pred, labels=labels)\n",
    "    correct_predictions = cm.diagonal()\n",
    "    label_totals = cm.sum(axis=1)\n",
    "    per_label_acc = np.divide(correct_predictions, label_totals, out=np.zeros_like(correct_predictions, dtype=float), where=label_totals != 0)\n",
    "    return dict(zip(labels, per_label_acc))"
   ],
   "outputs": [],
   "execution_count": 14
  },
  {
   "cell_type": "markdown",
   "id": "e1dbb72b88c986ae",
   "metadata": {},
   "source": [
    "Compute the following metrics: accuracy, precision, recall, f1 score, and per-label accuracy."
   ]
  },
  {
   "cell_type": "code",
   "id": "dbc426b92f30f17e",
   "metadata": {
    "ExecuteTime": {
     "end_time": "2025-01-15T19:30:33.800092Z",
     "start_time": "2025-01-15T19:30:33.793624Z"
    }
   },
   "source": [
    "from sklearn.metrics import accuracy_score, recall_score, precision_score, f1_score\n",
    "\n",
    "def compute_metrics(pred):\n",
    "    labels = pred.label_ids\n",
    "    preds = pred.predictions.argmax(-1)\n",
    "\n",
    "    decoded_labels = label_encoder.inverse_transform(labels)\n",
    "    decoded_preds = label_encoder.inverse_transform(preds)\n",
    "\n",
    "    precision = precision_score(decoded_labels, decoded_preds, average='weighted')\n",
    "    recall = recall_score(decoded_labels, decoded_preds, average='weighted')\n",
    "    f1 = f1_score(decoded_labels, decoded_preds, average='weighted')\n",
    "    acc = accuracy_score(decoded_labels, decoded_preds)\n",
    "\n",
    "    labels_list = list(label_encoder.classes_)\n",
    "    per_label_acc = per_label_accuracy(decoded_labels, decoded_preds, labels_list)\n",
    "\n",
    "    per_label_acc_metrics = {}\n",
    "    for label, accuracy in per_label_acc.items():\n",
    "        label_key = f\"accuracy_label_{label}\"\n",
    "        per_label_acc_metrics[label_key] = accuracy\n",
    "\n",
    "    return {\n",
    "        'accuracy': acc,\n",
    "        'f1': f1,\n",
    "        'precision': precision,\n",
    "        'recall': recall,\n",
    "        **per_label_acc_metrics\n",
    "    }"
   ],
   "outputs": [],
   "execution_count": 15
  },
  {
   "cell_type": "markdown",
   "id": "89b117a85c9dd98e",
   "metadata": {},
   "source": [
    "Next, the training begins. Training loss and validation loss should decrease consistenly. If the training loss is decreasing but the validation loss is increasing, the model is overfitting. If both are increasing, the model is underfitting."
   ]
  },
  {
   "cell_type": "code",
   "id": "af40704b3d471dce",
   "metadata": {
    "ExecuteTime": {
     "end_time": "2025-01-15T19:55:54.992802Z",
     "start_time": "2025-01-15T19:55:54.910934Z"
    }
   },
   "source": [
    "from transformers import Trainer, TrainingArguments\n",
    "\n",
    "training_args = TrainingArguments(\n",
    "    output_dir='./output',\n",
    "    num_train_epochs=10,\n",
    "    per_device_train_batch_size=64,\n",
    "    per_device_eval_batch_size=32,\n",
    "    weight_decay=0.01,\n",
    "    logging_steps=100,\n",
    "    eval_strategy='steps',\n",
    "    eval_steps=100,\n",
    "    save_strategy='epoch',\n",
    "    learning_rate=1e-3,\n",
    ")\n",
    "\n",
    "trainer = Trainer(\n",
    "    model=model,\n",
    "    args=training_args,\n",
    "    train_dataset=dataset_encoded['train'],\n",
    "    eval_dataset=dataset_encoded['test'],\n",
    "    compute_metrics=compute_metrics,\n",
    "    data_collator=data_collator,\n",
    ")"
   ],
   "outputs": [],
   "execution_count": 24
  },
  {
   "metadata": {
    "jupyter": {
     "is_executing": true
    },
    "ExecuteTime": {
     "start_time": "2025-01-15T19:56:03.014079Z"
    }
   },
   "cell_type": "code",
   "source": "trainer.train()",
   "id": "da335575789825eb",
   "outputs": [
    {
     "data": {
      "text/plain": [
       "<IPython.core.display.HTML object>"
      ],
      "text/html": [
       "\n",
       "    <div>\n",
       "      \n",
       "      <progress value='270' max='1270' style='width:300px; height:20px; vertical-align: middle;'></progress>\n",
       "      [ 270/1270 04:40 < 17:25, 0.96 it/s, Epoch 2.12/10]\n",
       "    </div>\n",
       "    <table border=\"1\" class=\"dataframe\">\n",
       "  <thead>\n",
       " <tr style=\"text-align: left;\">\n",
       "      <th>Step</th>\n",
       "      <th>Training Loss</th>\n",
       "      <th>Validation Loss</th>\n",
       "      <th>Accuracy</th>\n",
       "      <th>F1</th>\n",
       "      <th>Precision</th>\n",
       "      <th>Recall</th>\n",
       "      <th>Accuracy Label False</th>\n",
       "      <th>Accuracy Label True</th>\n",
       "    </tr>\n",
       "  </thead>\n",
       "  <tbody>\n",
       "    <tr>\n",
       "      <td>100</td>\n",
       "      <td>0.698000</td>\n",
       "      <td>0.666041</td>\n",
       "      <td>0.598802</td>\n",
       "      <td>0.587794</td>\n",
       "      <td>0.593913</td>\n",
       "      <td>0.598802</td>\n",
       "      <td>0.743219</td>\n",
       "      <td>0.420935</td>\n",
       "    </tr>\n",
       "    <tr>\n",
       "      <td>200</td>\n",
       "      <td>0.677400</td>\n",
       "      <td>0.672336</td>\n",
       "      <td>0.569860</td>\n",
       "      <td>0.566102</td>\n",
       "      <td>0.592079</td>\n",
       "      <td>0.569860</td>\n",
       "      <td>0.466546</td>\n",
       "      <td>0.697105</td>\n",
       "    </tr>\n",
       "  </tbody>\n",
       "</table><p>"
      ]
     },
     "metadata": {},
     "output_type": "display_data"
    }
   ],
   "execution_count": null
  },
  {
   "cell_type": "markdown",
   "id": "312c99b9c0d8561d",
   "metadata": {},
   "source": [
    "Save the results, the model and the state of the model."
   ]
  },
  {
   "cell_type": "code",
   "id": "2488383c06dfedb2",
   "metadata": {},
   "source": [
    "result = trainer.evaluate(dataset_encoded['valid'])\n",
    "print(result)\n",
    "trainer.save_model(your_path)\n",
    "trainer.save_state()"
   ],
   "outputs": [],
   "execution_count": null
  },
  {
   "metadata": {},
   "cell_type": "code",
   "source": "print(result)",
   "id": "efa8012bae4904ee",
   "outputs": [],
   "execution_count": null
  }
 ],
 "metadata": {
  "kernelspec": {
   "display_name": "Python 3 (ipykernel)",
   "language": "python",
   "name": "python3"
  },
  "language_info": {
   "codemirror_mode": {
    "name": "ipython",
    "version": 3
   },
   "file_extension": ".py",
   "mimetype": "text/x-python",
   "name": "python",
   "nbconvert_exporter": "python",
   "pygments_lexer": "ipython3",
   "version": "3.12.2"
  }
 },
 "nbformat": 4,
 "nbformat_minor": 5
}
